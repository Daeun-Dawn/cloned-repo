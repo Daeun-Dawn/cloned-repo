{
 "cells": [
  {
   "cell_type": "code",
   "execution_count": 1,
   "metadata": {},
   "outputs": [],
   "source": [
    "from selenium import webdriver\n",
    "from time import sleep"
   ]
  },
  {
   "cell_type": "code",
   "execution_count": 2,
   "metadata": {},
   "outputs": [],
   "source": [
    "ch_driver = webdriver.Chrome('C:/Users/user/chromedriver.exe')\n",
    "url = 'https://www.trivago.co.kr/'\n",
    "ch_driver.get(url)"
   ]
  },
  {
   "cell_type": "code",
   "execution_count": 3,
   "metadata": {},
   "outputs": [],
   "source": [
    "search_input = ch_driver.find_element_by_id('horus-querytext')\n",
    "search_word='도쿄'\n",
    "search_input.send_keys(search_word)\n",
    "click_button=ch_driver.find_element_by_class_name('horus-btn-search')\n",
    "click_button.click()\n",
    "# 여기서 잠시 기다리게 하고 싶으면 sleep(5) 아니면 implicitliy?"
   ]
  },
  {
   "cell_type": "code",
   "execution_count": 7,
   "metadata": {},
   "outputs": [],
   "source": [
    "another_button = ch_driver.find_element_by_class_name('df_overlay_close_wrap')\n",
    "another_button.click()"
   ]
  },
  {
   "cell_type": "code",
   "execution_count": 8,
   "metadata": {},
   "outputs": [
    {
     "data": {
      "text/plain": [
       "25"
      ]
     },
     "execution_count": 8,
     "metadata": {},
     "output_type": "execute_result"
    }
   ],
   "source": [
    "item_list_section = ch_driver.find_element_by_id('js_itemlist')\n",
    "# tag_name 'li' 말고 class_name 'js_co_item' 으로 \n",
    "item_list = item_list_section.find_elements_by_class_name('js_co_item')\n",
    "len(item_list)"
   ]
  },
  {
   "cell_type": "code",
   "execution_count": 11,
   "metadata": {},
   "outputs": [
    {
     "data": {
      "text/plain": [
       "['팰리스 호텔 도쿄',\n",
       " 'Hotel',\n",
       " '도쿄, Akihabara Station에서부터 1.9 km',\n",
       " '9.3',\n",
       " '최고 좋음(후기 1221개)']"
      ]
     },
     "execution_count": 11,
     "metadata": {},
     "output_type": "execute_result"
    }
   ],
   "source": [
    "hotel_info=item_list[0].find_element_by_class_name('item__details')\n",
    "hotel_info.text.split('\\n')"
   ]
  },
  {
   "cell_type": "code",
   "execution_count": 12,
   "metadata": {},
   "outputs": [
    {
     "name": "stdout",
     "output_type": "stream",
     "text": [
      "팰리스 호텔 도쿄 도쿄, Akihabara Station에서부터 1.9 km 9.3 최고 좋음 1221\n"
     ]
    }
   ],
   "source": [
    "hotel_name = hotel_info.text.split('\\n')[0]\n",
    "dist_from_station = hotel_info.text.split('\\n')[2]\n",
    "num_rating = float(hotel_info.text.split('\\n')[3])\n",
    "text_rating = hotel_info.text.split('\\n')[4].split('(')[0]\n",
    "review_num = int(hotel_info.text.split('\\n')[4].split('(')[1].split(' ')[1][:-2])\n",
    "print(hotel_name, dist_from_station, num_rating, text_rating, review_num)"
   ]
  },
  {
   "cell_type": "code",
   "execution_count": 13,
   "metadata": {},
   "outputs": [],
   "source": [
    "item_list[0].find_element_by_class_name('ov-hidden').click()"
   ]
  },
  {
   "cell_type": "code",
   "execution_count": 14,
   "metadata": {},
   "outputs": [
    {
     "data": {
      "text/plain": [
       "10"
      ]
     },
     "execution_count": 14,
     "metadata": {},
     "output_type": "execute_result"
    }
   ],
   "source": [
    "features=item_list[0].find_element_by_class_name('top-features').find_elements_by_tag_name('li')\n",
    "# class name 'sl-box__block' 말고 'top-features'로 \n",
    "len(features)"
   ]
  },
  {
   "cell_type": "code",
   "execution_count": 15,
   "metadata": {},
   "outputs": [
    {
     "name": "stdout",
     "output_type": "stream",
     "text": [
      "무료무선인터넷 (로비)\n",
      "무료무선인터넷 (객실)\n",
      "수영장\n",
      "스파\n",
      "주차장\n",
      "반려동물 동반 가능\n",
      "에어컨\n",
      "레스토랑\n",
      "호텔 바\n",
      "헬스클럽\n"
     ]
    }
   ],
   "source": [
    "for li in features:\n",
    "    if li.get_attribute(\"title\") == \"이용 가능한 시설\":\n",
    "        print(li.text)\n",
    "    else:\n",
    "        print('None')"
   ]
  },
  {
   "cell_type": "code",
   "execution_count": 16,
   "metadata": {},
   "outputs": [
    {
     "data": {
      "text/plain": [
       "'529,635'"
      ]
     },
     "execution_count": 16,
     "metadata": {},
     "output_type": "execute_result"
    }
   ],
   "source": [
    "price = item_list[0].find_element_by_class_name('item__best-price').text[:-1]\n",
    "price"
   ]
  },
  {
   "cell_type": "code",
   "execution_count": 25,
   "metadata": {},
   "outputs": [],
   "source": [
    "def get_hotel_info():\n",
    "    one_page_result = []\n",
    "    \n",
    "    item_list_section = ch_driver.find_element_by_id('js_itemlist')\n",
    "    item_list=item_list_section.find_elements_by_class_name('js_co_item')  #len(item_list) = 25\n",
    "    \n",
    "    #추가 정보를 확인하기 위해서는 해당 탭이 활성화되어 있어야 한다. 그래서 list comprehensions를 이용해\n",
    "    #탭들을 모두 클릭하여 활성화 하도록 한 뒤, 아래 정보들을 스크래핑\n",
    "    [x.find_element_by_class_name('ov-hidden').click() for x in item_list]\n",
    "    #list comprehensions는 기존의 리스트로 새로운 리스트를 만들고 싶을때 뿐만 아니라,\n",
    "    #요소의 수행을 반복적으로 하고 싶게 할 때 사용할수도 있다.\n",
    "    \n",
    "    for hotel in item_list:\n",
    "        try: \n",
    "            hotel_info=hotel.find_element_by_class_name('item__details')\n",
    "            hotel_name = hotel_info.text.split('\\n')[0]\n",
    "            dist_from_station = hotel_info.text.split('\\n')[2]\n",
    "            num_rating = float(hotel_info.text.split('\\n')[3])\n",
    "            text_rating = hotel_info.text.split('\\n')[4].split('(')[0]\n",
    "            review_num = int(hotel_info.text.split('\\n')[4].split('(')[1].split(' ')[1][:-2])\n",
    "            price=hotel.find_element_by_class_name('item__best-price').text[:-1]\n",
    "            \n",
    "            #one_page_result.append((hotel_name, dist_from_station, num_rating, text_rating, review_num))\n",
    "          \n",
    "            features = hotel.find_element_by_class_name('top-features').find_elements_by_tag_name('li')\n",
    "            \n",
    "            amenities=[]\n",
    "            for li in features:\n",
    "                if li.get_attribute('title') == '이용 가능한 시설':\n",
    "                    amenities.append(li.text)\n",
    "                else:\n",
    "                    amenities.append('None')\n",
    "            print(hotel_name, dist_from_station, num_rating, text_rating, review_num, amenities)\n",
    "        except:\n",
    "            pass\n",
    "           \n",
    "    return one_page_result"
   ]
  },
  {
   "cell_type": "code",
   "execution_count": 26,
   "metadata": {},
   "outputs": [
    {
     "ename": "WebDriverException",
     "evalue": "Message: unknown error: Element <div class=\"item__location ov-hidden\">...</div> is not clickable at point (453, 20). Other element would receive the click: <div class=\"mt-win__wrp\">...</div>\n  (Session info: chrome=71.0.3578.98)\n  (Driver info: chromedriver=2.45.615291 (ec3682e3c9061c10f26ea9e5cdcf3c53f3f74387),platform=Windows NT 10.0.17134 x86_64)\n",
     "output_type": "error",
     "traceback": [
      "\u001b[1;31m---------------------------------------------------------------------------\u001b[0m",
      "\u001b[1;31mWebDriverException\u001b[0m                        Traceback (most recent call last)",
      "\u001b[1;32m<ipython-input-26-0ede012b73b6>\u001b[0m in \u001b[0;36m<module>\u001b[1;34m\u001b[0m\n\u001b[1;32m----> 1\u001b[1;33m \u001b[0mget_hotel_info\u001b[0m\u001b[1;33m(\u001b[0m\u001b[1;33m)\u001b[0m\u001b[1;33m\u001b[0m\u001b[0m\n\u001b[0m",
      "\u001b[1;32m<ipython-input-25-3a2aad905559>\u001b[0m in \u001b[0;36mget_hotel_info\u001b[1;34m()\u001b[0m\n\u001b[0;32m      7\u001b[0m     \u001b[1;31m#추가 정보를 확인하기 위해서는 해당 탭이 활성화되어 있어야 한다. 그래서 list comprehensions를 이용해\u001b[0m\u001b[1;33m\u001b[0m\u001b[1;33m\u001b[0m\u001b[0m\n\u001b[0;32m      8\u001b[0m     \u001b[1;31m#탭들을 모두 클릭하여 활성화 하도록 한 뒤, 아래 정보들을 스크래핑\u001b[0m\u001b[1;33m\u001b[0m\u001b[1;33m\u001b[0m\u001b[0m\n\u001b[1;32m----> 9\u001b[1;33m     \u001b[1;33m[\u001b[0m\u001b[0mx\u001b[0m\u001b[1;33m.\u001b[0m\u001b[0mfind_element_by_class_name\u001b[0m\u001b[1;33m(\u001b[0m\u001b[1;34m'ov-hidden'\u001b[0m\u001b[1;33m)\u001b[0m\u001b[1;33m.\u001b[0m\u001b[0mclick\u001b[0m\u001b[1;33m(\u001b[0m\u001b[1;33m)\u001b[0m \u001b[1;32mfor\u001b[0m \u001b[0mx\u001b[0m \u001b[1;32min\u001b[0m \u001b[0mitem_list\u001b[0m\u001b[1;33m]\u001b[0m\u001b[1;33m\u001b[0m\u001b[0m\n\u001b[0m\u001b[0;32m     10\u001b[0m     \u001b[1;31m#list comprehensions는 기존의 리스트로 새로운 리스트를 만들고 싶을때 뿐만 아니라,\u001b[0m\u001b[1;33m\u001b[0m\u001b[1;33m\u001b[0m\u001b[0m\n\u001b[0;32m     11\u001b[0m     \u001b[1;31m#요소의 수행을 반복적으로 하고 싶게 할 때 사용할수도 있다.\u001b[0m\u001b[1;33m\u001b[0m\u001b[1;33m\u001b[0m\u001b[0m\n",
      "\u001b[1;32m<ipython-input-25-3a2aad905559>\u001b[0m in \u001b[0;36m<listcomp>\u001b[1;34m(.0)\u001b[0m\n\u001b[0;32m      7\u001b[0m     \u001b[1;31m#추가 정보를 확인하기 위해서는 해당 탭이 활성화되어 있어야 한다. 그래서 list comprehensions를 이용해\u001b[0m\u001b[1;33m\u001b[0m\u001b[1;33m\u001b[0m\u001b[0m\n\u001b[0;32m      8\u001b[0m     \u001b[1;31m#탭들을 모두 클릭하여 활성화 하도록 한 뒤, 아래 정보들을 스크래핑\u001b[0m\u001b[1;33m\u001b[0m\u001b[1;33m\u001b[0m\u001b[0m\n\u001b[1;32m----> 9\u001b[1;33m     \u001b[1;33m[\u001b[0m\u001b[0mx\u001b[0m\u001b[1;33m.\u001b[0m\u001b[0mfind_element_by_class_name\u001b[0m\u001b[1;33m(\u001b[0m\u001b[1;34m'ov-hidden'\u001b[0m\u001b[1;33m)\u001b[0m\u001b[1;33m.\u001b[0m\u001b[0mclick\u001b[0m\u001b[1;33m(\u001b[0m\u001b[1;33m)\u001b[0m \u001b[1;32mfor\u001b[0m \u001b[0mx\u001b[0m \u001b[1;32min\u001b[0m \u001b[0mitem_list\u001b[0m\u001b[1;33m]\u001b[0m\u001b[1;33m\u001b[0m\u001b[0m\n\u001b[0m\u001b[0;32m     10\u001b[0m     \u001b[1;31m#list comprehensions는 기존의 리스트로 새로운 리스트를 만들고 싶을때 뿐만 아니라,\u001b[0m\u001b[1;33m\u001b[0m\u001b[1;33m\u001b[0m\u001b[0m\n\u001b[0;32m     11\u001b[0m     \u001b[1;31m#요소의 수행을 반복적으로 하고 싶게 할 때 사용할수도 있다.\u001b[0m\u001b[1;33m\u001b[0m\u001b[1;33m\u001b[0m\u001b[0m\n",
      "\u001b[1;32m~\\Anaconda3\\lib\\site-packages\\selenium\\webdriver\\remote\\webelement.py\u001b[0m in \u001b[0;36mclick\u001b[1;34m(self)\u001b[0m\n\u001b[0;32m     78\u001b[0m     \u001b[1;32mdef\u001b[0m \u001b[0mclick\u001b[0m\u001b[1;33m(\u001b[0m\u001b[0mself\u001b[0m\u001b[1;33m)\u001b[0m\u001b[1;33m:\u001b[0m\u001b[1;33m\u001b[0m\u001b[0m\n\u001b[0;32m     79\u001b[0m         \u001b[1;34m\"\"\"Clicks the element.\"\"\"\u001b[0m\u001b[1;33m\u001b[0m\u001b[0m\n\u001b[1;32m---> 80\u001b[1;33m         \u001b[0mself\u001b[0m\u001b[1;33m.\u001b[0m\u001b[0m_execute\u001b[0m\u001b[1;33m(\u001b[0m\u001b[0mCommand\u001b[0m\u001b[1;33m.\u001b[0m\u001b[0mCLICK_ELEMENT\u001b[0m\u001b[1;33m)\u001b[0m\u001b[1;33m\u001b[0m\u001b[0m\n\u001b[0m\u001b[0;32m     81\u001b[0m \u001b[1;33m\u001b[0m\u001b[0m\n\u001b[0;32m     82\u001b[0m     \u001b[1;32mdef\u001b[0m \u001b[0msubmit\u001b[0m\u001b[1;33m(\u001b[0m\u001b[0mself\u001b[0m\u001b[1;33m)\u001b[0m\u001b[1;33m:\u001b[0m\u001b[1;33m\u001b[0m\u001b[0m\n",
      "\u001b[1;32m~\\Anaconda3\\lib\\site-packages\\selenium\\webdriver\\remote\\webelement.py\u001b[0m in \u001b[0;36m_execute\u001b[1;34m(self, command, params)\u001b[0m\n\u001b[0;32m    631\u001b[0m             \u001b[0mparams\u001b[0m \u001b[1;33m=\u001b[0m \u001b[1;33m{\u001b[0m\u001b[1;33m}\u001b[0m\u001b[1;33m\u001b[0m\u001b[0m\n\u001b[0;32m    632\u001b[0m         \u001b[0mparams\u001b[0m\u001b[1;33m[\u001b[0m\u001b[1;34m'id'\u001b[0m\u001b[1;33m]\u001b[0m \u001b[1;33m=\u001b[0m \u001b[0mself\u001b[0m\u001b[1;33m.\u001b[0m\u001b[0m_id\u001b[0m\u001b[1;33m\u001b[0m\u001b[0m\n\u001b[1;32m--> 633\u001b[1;33m         \u001b[1;32mreturn\u001b[0m \u001b[0mself\u001b[0m\u001b[1;33m.\u001b[0m\u001b[0m_parent\u001b[0m\u001b[1;33m.\u001b[0m\u001b[0mexecute\u001b[0m\u001b[1;33m(\u001b[0m\u001b[0mcommand\u001b[0m\u001b[1;33m,\u001b[0m \u001b[0mparams\u001b[0m\u001b[1;33m)\u001b[0m\u001b[1;33m\u001b[0m\u001b[0m\n\u001b[0m\u001b[0;32m    634\u001b[0m \u001b[1;33m\u001b[0m\u001b[0m\n\u001b[0;32m    635\u001b[0m     \u001b[1;32mdef\u001b[0m \u001b[0mfind_element\u001b[0m\u001b[1;33m(\u001b[0m\u001b[0mself\u001b[0m\u001b[1;33m,\u001b[0m \u001b[0mby\u001b[0m\u001b[1;33m=\u001b[0m\u001b[0mBy\u001b[0m\u001b[1;33m.\u001b[0m\u001b[0mID\u001b[0m\u001b[1;33m,\u001b[0m \u001b[0mvalue\u001b[0m\u001b[1;33m=\u001b[0m\u001b[1;32mNone\u001b[0m\u001b[1;33m)\u001b[0m\u001b[1;33m:\u001b[0m\u001b[1;33m\u001b[0m\u001b[0m\n",
      "\u001b[1;32m~\\Anaconda3\\lib\\site-packages\\selenium\\webdriver\\remote\\webdriver.py\u001b[0m in \u001b[0;36mexecute\u001b[1;34m(self, driver_command, params)\u001b[0m\n\u001b[0;32m    319\u001b[0m         \u001b[0mresponse\u001b[0m \u001b[1;33m=\u001b[0m \u001b[0mself\u001b[0m\u001b[1;33m.\u001b[0m\u001b[0mcommand_executor\u001b[0m\u001b[1;33m.\u001b[0m\u001b[0mexecute\u001b[0m\u001b[1;33m(\u001b[0m\u001b[0mdriver_command\u001b[0m\u001b[1;33m,\u001b[0m \u001b[0mparams\u001b[0m\u001b[1;33m)\u001b[0m\u001b[1;33m\u001b[0m\u001b[0m\n\u001b[0;32m    320\u001b[0m         \u001b[1;32mif\u001b[0m \u001b[0mresponse\u001b[0m\u001b[1;33m:\u001b[0m\u001b[1;33m\u001b[0m\u001b[0m\n\u001b[1;32m--> 321\u001b[1;33m             \u001b[0mself\u001b[0m\u001b[1;33m.\u001b[0m\u001b[0merror_handler\u001b[0m\u001b[1;33m.\u001b[0m\u001b[0mcheck_response\u001b[0m\u001b[1;33m(\u001b[0m\u001b[0mresponse\u001b[0m\u001b[1;33m)\u001b[0m\u001b[1;33m\u001b[0m\u001b[0m\n\u001b[0m\u001b[0;32m    322\u001b[0m             response['value'] = self._unwrap_value(\n\u001b[0;32m    323\u001b[0m                 response.get('value', None))\n",
      "\u001b[1;32m~\\Anaconda3\\lib\\site-packages\\selenium\\webdriver\\remote\\errorhandler.py\u001b[0m in \u001b[0;36mcheck_response\u001b[1;34m(self, response)\u001b[0m\n\u001b[0;32m    240\u001b[0m                 \u001b[0malert_text\u001b[0m \u001b[1;33m=\u001b[0m \u001b[0mvalue\u001b[0m\u001b[1;33m[\u001b[0m\u001b[1;34m'alert'\u001b[0m\u001b[1;33m]\u001b[0m\u001b[1;33m.\u001b[0m\u001b[0mget\u001b[0m\u001b[1;33m(\u001b[0m\u001b[1;34m'text'\u001b[0m\u001b[1;33m)\u001b[0m\u001b[1;33m\u001b[0m\u001b[0m\n\u001b[0;32m    241\u001b[0m             \u001b[1;32mraise\u001b[0m \u001b[0mexception_class\u001b[0m\u001b[1;33m(\u001b[0m\u001b[0mmessage\u001b[0m\u001b[1;33m,\u001b[0m \u001b[0mscreen\u001b[0m\u001b[1;33m,\u001b[0m \u001b[0mstacktrace\u001b[0m\u001b[1;33m,\u001b[0m \u001b[0malert_text\u001b[0m\u001b[1;33m)\u001b[0m\u001b[1;33m\u001b[0m\u001b[0m\n\u001b[1;32m--> 242\u001b[1;33m         \u001b[1;32mraise\u001b[0m \u001b[0mexception_class\u001b[0m\u001b[1;33m(\u001b[0m\u001b[0mmessage\u001b[0m\u001b[1;33m,\u001b[0m \u001b[0mscreen\u001b[0m\u001b[1;33m,\u001b[0m \u001b[0mstacktrace\u001b[0m\u001b[1;33m)\u001b[0m\u001b[1;33m\u001b[0m\u001b[0m\n\u001b[0m\u001b[0;32m    243\u001b[0m \u001b[1;33m\u001b[0m\u001b[0m\n\u001b[0;32m    244\u001b[0m     \u001b[1;32mdef\u001b[0m \u001b[0m_value_or_default\u001b[0m\u001b[1;33m(\u001b[0m\u001b[0mself\u001b[0m\u001b[1;33m,\u001b[0m \u001b[0mobj\u001b[0m\u001b[1;33m,\u001b[0m \u001b[0mkey\u001b[0m\u001b[1;33m,\u001b[0m \u001b[0mdefault\u001b[0m\u001b[1;33m)\u001b[0m\u001b[1;33m:\u001b[0m\u001b[1;33m\u001b[0m\u001b[0m\n",
      "\u001b[1;31mWebDriverException\u001b[0m: Message: unknown error: Element <div class=\"item__location ov-hidden\">...</div> is not clickable at point (453, 20). Other element would receive the click: <div class=\"mt-win__wrp\">...</div>\n  (Session info: chrome=71.0.3578.98)\n  (Driver info: chromedriver=2.45.615291 (ec3682e3c9061c10f26ea9e5cdcf3c53f3f74387),platform=Windows NT 10.0.17134 x86_64)\n"
     ]
    }
   ],
   "source": [
    "get_hotel_info()"
   ]
  },
  {
   "cell_type": "code",
   "execution_count": 27,
   "metadata": {},
   "outputs": [],
   "source": [
    "# api 스크래핑을 할때는 위에서와 달리 훨씬 수월하게 작동하는 것 확인\n",
    "import requests "
   ]
  },
  {
   "cell_type": "code",
   "execution_count": 31,
   "metadata": {},
   "outputs": [
    {
     "data": {
      "text/plain": [
       "{'topFeatures': [{'title': '무선인터넷 (로비)',\n",
       "   'iconName': 'wifi',\n",
       "   'isAvailable': True,\n",
       "   'isFreeOfCharge': True},\n",
       "  {'title': '무선인터넷 (객실)',\n",
       "   'iconName': 'wifi',\n",
       "   'isAvailable': True,\n",
       "   'isFreeOfCharge': True},\n",
       "  {'title': '수영장',\n",
       "   'iconName': 'pool',\n",
       "   'isAvailable': True,\n",
       "   'isFreeOfCharge': False},\n",
       "  {'title': '스파',\n",
       "   'iconName': 'spa',\n",
       "   'isAvailable': True,\n",
       "   'isFreeOfCharge': False},\n",
       "  {'title': '주차장',\n",
       "   'iconName': 'parking',\n",
       "   'isAvailable': True,\n",
       "   'isFreeOfCharge': False},\n",
       "  {'title': '반려동물 동반 가능',\n",
       "   'iconName': 'pet',\n",
       "   'isAvailable': True,\n",
       "   'isFreeOfCharge': False},\n",
       "  {'title': '에어컨',\n",
       "   'iconName': 'ac',\n",
       "   'isAvailable': True,\n",
       "   'isFreeOfCharge': False},\n",
       "  {'title': '레스토랑',\n",
       "   'iconName': 'restaurant',\n",
       "   'isAvailable': True,\n",
       "   'isFreeOfCharge': False},\n",
       "  {'title': '호텔 바',\n",
       "   'iconName': 'bar',\n",
       "   'isAvailable': True,\n",
       "   'isFreeOfCharge': False},\n",
       "  {'title': '헬스클럽',\n",
       "   'iconName': 'gym',\n",
       "   'isAvailable': True,\n",
       "   'isFreeOfCharge': False}],\n",
       " 'groupedFeatures': [{'title': '호텔 부대시설',\n",
       "   'features': [{'title': '24시간 리셉션'},\n",
       "    {'title': '24시간 룸 서비스'},\n",
       "    {'title': '공항 셔틀'},\n",
       "    {'title': '금연실'},\n",
       "    {'title': '레스토랑'},\n",
       "    {'title': '룸 서비스'},\n",
       "    {'title': '무료 WiFi (로비)'},\n",
       "    {'title': '무선인터넷 (로비)'},\n",
       "    {'title': '미용실'},\n",
       "    {'title': '반려동물 동반 가능'},\n",
       "    {'title': '비즈니스 센터'},\n",
       "    {'title': '세탁 서비스'},\n",
       "    {'title': '실내 수영장'},\n",
       "    {'title': '안내서비스'},\n",
       "    {'title': '엘리베이터'},\n",
       "    {'title': '인터넷 액세스'},\n",
       "    {'title': '주차장'},\n",
       "    {'title': '짐 운반 서비스'},\n",
       "    {'title': '테라스'},\n",
       "    {'title': '편의점'},\n",
       "    {'title': '피트니스 센터 / 스파'},\n",
       "    {'title': '헬스클럽'},\n",
       "    {'title': '호텔 바'},\n",
       "    {'title': '호텔 보관금고'},\n",
       "    {'title': '회의/ 미팅실'}]},\n",
       "  {'title': '객실 내 시설',\n",
       "   'features': [{'title': '객실 금고'},\n",
       "    {'title': '냉장고'},\n",
       "    {'title': '다리미대'},\n",
       "    {'title': '무료 WiFi (객실)'},\n",
       "    {'title': '무선인터넷 (객실 내)'},\n",
       "    {'title': '샤워기 있는 욕실'},\n",
       "    {'title': '에어컨'},\n",
       "    {'title': '욕조 있는 욕실'},\n",
       "    {'title': '위성 TV'},\n",
       "    {'title': '인터넷'},\n",
       "    {'title': '전화'},\n",
       "    {'title': '중앙 난방'},\n",
       "    {'title': '책상'},\n",
       "    {'title': '커피포트'},\n",
       "    {'title': '텔레비전'},\n",
       "    {'title': '헤어드라이어'},\n",
       "    {'title': '화장대'}]},\n",
       "  {'title': '헬스 / 스파',\n",
       "   'features': [{'title': '마사지'},\n",
       "    {'title': '미용실'},\n",
       "    {'title': '바디 트리트먼트'},\n",
       "    {'title': '사우나'},\n",
       "    {'title': '월풀 욕조'}]},\n",
       "  {'title': '장애인 지원 서비스',\n",
       "   'features': [{'title': '장애인 전용 주차장'}, {'title': '휠체어 접근 가능'}]},\n",
       "  {'title': '어린이 서비스', 'features': [{'title': '어린이 / 아기용 침대'}]}]}"
      ]
     },
     "execution_count": 31,
     "metadata": {},
     "output_type": "execute_result"
    }
   ],
   "source": [
    "requests.get('https://www.trivago.co.kr/api/v1/_cache/accommodation/2113096/complete-info.json?requestId=v91_01_2_ah_kr_KR_KR').json()[\"amenities\"]"
   ]
  },
  {
   "cell_type": "markdown",
   "metadata": {},
   "source": [
    "## 프로젝트를 통해 구하고자 한 결과물\n",
    "트리바고 웹사이트에서 도쿄 호텔 정보를 스크래핑 하고자 했다\n",
    "\n",
    "## 실패한 이유\n",
    "Trivago 같은 경우는 스크래핑 하기 까다로운 사이트이기도 하고,\n",
    "\n",
    "api 스크래핑을 할 수 있음에도 selenium으로 스크래핑을 하고자 했던 점이 잘못된 선택이었다\n",
    "\n",
    "(--> 코드가 변하지 않았음에도 불구하고\n",
    "재실행시킬때마다 다른 결과가 프린트됨)\n",
    "\n",
    "## 느낀 점\n",
    "api로 스크래핑할 수 있으면 api 스크래핑을 하자"
   ]
  },
  {
   "cell_type": "code",
   "execution_count": null,
   "metadata": {},
   "outputs": [],
   "source": []
  }
 ],
 "metadata": {
  "kernelspec": {
   "display_name": "Python 3",
   "language": "python",
   "name": "python3"
  },
  "language_info": {
   "codemirror_mode": {
    "name": "ipython",
    "version": 3
   },
   "file_extension": ".py",
   "mimetype": "text/x-python",
   "name": "python",
   "nbconvert_exporter": "python",
   "pygments_lexer": "ipython3",
   "version": "3.6.5"
  }
 },
 "nbformat": 4,
 "nbformat_minor": 2
}
