{
 "cells": [
  {
   "cell_type": "code",
   "execution_count": 1,
   "metadata": {},
   "outputs": [],
   "source": [
    "from selenium import webdriver"
   ]
  },
  {
   "cell_type": "code",
   "execution_count": 2,
   "metadata": {},
   "outputs": [],
   "source": [
    "ch_driver = webdriver.Chrome('C:/Users/user/chromedriver.exe')"
   ]
  },
  {
   "cell_type": "code",
   "execution_count": 3,
   "metadata": {},
   "outputs": [],
   "source": [
    "ch_driver.get('https://www.glassdoor.com/index.htm')"
   ]
  },
  {
   "cell_type": "code",
   "execution_count": 4,
   "metadata": {},
   "outputs": [],
   "source": [
    "input=ch_driver.find_element_by_id('KeywordSearch')"
   ]
  },
  {
   "cell_type": "code",
   "execution_count": 5,
   "metadata": {},
   "outputs": [],
   "source": [
    "search_word = 'Data scientist intern'\n",
    "input.send_keys(search_word)"
   ]
  },
  {
   "cell_type": "code",
   "execution_count": 6,
   "metadata": {},
   "outputs": [],
   "source": [
    "click_button=ch_driver.find_element_by_id('HeroSearchButton')\n",
    "click_button.click()"
   ]
  },
  {
   "cell_type": "code",
   "execution_count": 7,
   "metadata": {},
   "outputs": [],
   "source": [
    "#jobLink = lists[0].find_element_by_class_name('jobLink')\n",
    "#jobLink.text  > 텍스트값이 안나옴 ''"
   ]
  },
  {
   "cell_type": "code",
   "execution_count": 8,
   "metadata": {},
   "outputs": [
    {
     "data": {
      "text/plain": [
       "<selenium.webdriver.remote.webelement.WebElement (session=\"aff21a3e19d972b1b0cab950912b54a3\", element=\"0.6873670359272936-1\")>"
      ]
     },
     "execution_count": 8,
     "metadata": {},
     "output_type": "execute_result"
    }
   ],
   "source": [
    "section=ch_driver.find_element_by_id('MainCol')\n",
    "section"
   ]
  },
  {
   "cell_type": "code",
   "execution_count": 9,
   "metadata": {},
   "outputs": [],
   "source": [
    "job_list=section.find_elements_by_tag_name('li')"
   ]
  },
  {
   "cell_type": "code",
   "execution_count": 10,
   "metadata": {},
   "outputs": [],
   "source": [
    "job=job_list[0].find_element_by_class_name('jobTitle')\n",
    "job_name= job.text"
   ]
  },
  {
   "cell_type": "code",
   "execution_count": 11,
   "metadata": {},
   "outputs": [
    {
     "data": {
      "text/plain": [
       "'https://www.glassdoor.com/partner/jobListing.htm?pos=101&ao=14295&s=58&guid=00000167daf6f2d180120db46eb8ba7e&src=GD_JOB_AD&t=SR&extid=1&exst=OL&ist=&ast=OL&vt=w&slr=true&rtp=0&aa=1&ea=1&cs=1_87c07195&cb=1545566876607&jobListingId=3003736867'"
      ]
     },
     "execution_count": 11,
     "metadata": {},
     "output_type": "execute_result"
    }
   ],
   "source": [
    "link=job.find_element_by_tag_name('a').get_attribute('href')\n",
    "link"
   ]
  },
  {
   "cell_type": "code",
   "execution_count": 12,
   "metadata": {},
   "outputs": [
    {
     "data": {
      "text/plain": [
       "'Hyperconnect – Seoul\\nEASY APPLY'"
      ]
     },
     "execution_count": 12,
     "metadata": {},
     "output_type": "execute_result"
    }
   ],
   "source": [
    "com_name_and_loc=job_list[0].find_element_by_class_name('empLoc')\n",
    "com_name_and_loc.text"
   ]
  },
  {
   "cell_type": "code",
   "execution_count": 13,
   "metadata": {},
   "outputs": [
    {
     "data": {
      "text/plain": [
       "<function str.split>"
      ]
     },
     "execution_count": 13,
     "metadata": {},
     "output_type": "execute_result"
    }
   ],
   "source": [
    "com_name_and_loc.text.split('\\n')[0].split # - 기준으로 어떻게 나누지?"
   ]
  },
  {
   "cell_type": "code",
   "execution_count": 14,
   "metadata": {},
   "outputs": [],
   "source": [
    "#salary=job_list[0].find_element_by_class_name('green').text.split('(')[0]\n",
    "#salary"
   ]
  },
  {
   "cell_type": "code",
   "execution_count": 15,
   "metadata": {},
   "outputs": [],
   "source": [
    "def get_job_list():\n",
    "    \n",
    "    section=ch_driver.find_element_by_id('MainCol')\n",
    "    job_list=section.find_elements_by_tag_name('li')\n",
    "    result=[]\n",
    "    for li in job_list:\n",
    "        try:\n",
    "            job=li.find_element_by_xpath('//*[@id=\"MainCol\"]/div/ul/li/div[2]/div[1]/div[1]/a')\n",
    "            job_name= job.text\n",
    "            link=job.get_attribute('href')\n",
    "            com_name_and_loc=li.find_element_by_class_name('empLoc')\n",
    "            com_info=com_name_and_loc.text.split('\\n')[0]\n",
    "            #salary=li.find_element_by_class_name('green').text.split('(')[0]\n",
    "            print(job_name, link, com_info)\n",
    "        except:\n",
    "            print(job_name, link, com_info)\n",
    "            \n",
    "       "
   ]
  },
  {
   "cell_type": "code",
   "execution_count": 16,
   "metadata": {
    "scrolled": true
   },
   "outputs": [
    {
     "name": "stdout",
     "output_type": "stream",
     "text": [
      "데이터 사이언티스트 / Data Scientist https://www.glassdoor.com/partner/jobListing.htm?pos=101&ao=14295&s=58&guid=00000167daf6f2d180120db46eb8ba7e&src=GD_JOB_AD&t=SR&extid=1&exst=OL&ist=&ast=OL&vt=w&slr=true&rtp=0&aa=1&ea=1&cs=1_87c07195&cb=1545566876607&jobListingId=3003736867 Hyperconnect – Seoul\n",
      "데이터 사이언티스트 / Data Scientist https://www.glassdoor.com/partner/jobListing.htm?pos=101&ao=14295&s=58&guid=00000167daf6f2d180120db46eb8ba7e&src=GD_JOB_AD&t=SR&extid=1&exst=OL&ist=&ast=OL&vt=w&slr=true&rtp=0&aa=1&ea=1&cs=1_87c07195&cb=1545566876607&jobListingId=3003736867 IQVIA – Seoul\n",
      "데이터 사이언티스트 / Data Scientist https://www.glassdoor.com/partner/jobListing.htm?pos=101&ao=14295&s=58&guid=00000167daf6f2d180120db46eb8ba7e&src=GD_JOB_AD&t=SR&extid=1&exst=OL&ist=&ast=OL&vt=w&slr=true&rtp=0&aa=1&ea=1&cs=1_87c07195&cb=1545566876607&jobListingId=3003736867 TransPerfect – Seoul\n",
      "데이터 사이언티스트 / Data Scientist https://www.glassdoor.com/partner/jobListing.htm?pos=101&ao=14295&s=58&guid=00000167daf6f2d180120db46eb8ba7e&src=GD_JOB_AD&t=SR&extid=1&exst=OL&ist=&ast=OL&vt=w&slr=true&rtp=0&aa=1&ea=1&cs=1_87c07195&cb=1545566876607&jobListingId=3003736867 McKinsey & Company – Seoul\n",
      "데이터 사이언티스트 / Data Scientist https://www.glassdoor.com/partner/jobListing.htm?pos=101&ao=14295&s=58&guid=00000167daf6f2d180120db46eb8ba7e&src=GD_JOB_AD&t=SR&extid=1&exst=OL&ist=&ast=OL&vt=w&slr=true&rtp=0&aa=1&ea=1&cs=1_87c07195&cb=1545566876607&jobListingId=3003736867 Coupang(Business) – Seoul\n",
      "데이터 사이언티스트 / Data Scientist https://www.glassdoor.com/partner/jobListing.htm?pos=101&ao=14295&s=58&guid=00000167daf6f2d180120db46eb8ba7e&src=GD_JOB_AD&t=SR&extid=1&exst=OL&ist=&ast=OL&vt=w&slr=true&rtp=0&aa=1&ea=1&cs=1_87c07195&cb=1545566876607&jobListingId=3003736867 Aetna – Seoul\n",
      "데이터 사이언티스트 / Data Scientist https://www.glassdoor.com/partner/jobListing.htm?pos=101&ao=14295&s=58&guid=00000167daf6f2d180120db46eb8ba7e&src=GD_JOB_AD&t=SR&extid=1&exst=OL&ist=&ast=OL&vt=w&slr=true&rtp=0&aa=1&ea=1&cs=1_87c07195&cb=1545566876607&jobListingId=3003736867 Bloomberg L.P. – Seoul\n",
      "데이터 사이언티스트 / Data Scientist https://www.glassdoor.com/partner/jobListing.htm?pos=101&ao=14295&s=58&guid=00000167daf6f2d180120db46eb8ba7e&src=GD_JOB_AD&t=SR&extid=1&exst=OL&ist=&ast=OL&vt=w&slr=true&rtp=0&aa=1&ea=1&cs=1_87c07195&cb=1545566876607&jobListingId=3003736867 Bloomberg L.P. – Seoul\n",
      "데이터 사이언티스트 / Data Scientist https://www.glassdoor.com/partner/jobListing.htm?pos=101&ao=14295&s=58&guid=00000167daf6f2d180120db46eb8ba7e&src=GD_JOB_AD&t=SR&extid=1&exst=OL&ist=&ast=OL&vt=w&slr=true&rtp=0&aa=1&ea=1&cs=1_87c07195&cb=1545566876607&jobListingId=3003736867 Bloomberg L.P. – Seoul\n",
      "데이터 사이언티스트 / Data Scientist https://www.glassdoor.com/partner/jobListing.htm?pos=101&ao=14295&s=58&guid=00000167daf6f2d180120db46eb8ba7e&src=GD_JOB_AD&t=SR&extid=1&exst=OL&ist=&ast=OL&vt=w&slr=true&rtp=0&aa=1&ea=1&cs=1_87c07195&cb=1545566876607&jobListingId=3003736867 Bloomberg L.P. – Seoul\n"
     ]
    }
   ],
   "source": [
    "get_job_list()"
   ]
  },
  {
   "cell_type": "markdown",
   "metadata": {},
   "source": [
    "## 프로젝트를 통해 구하고자 한 결과물\n",
    "glassdoor 웹사이트에서 회사이름, 링크, 회사 정보를 스크래핑하고자 했다\n",
    "\n",
    "## 실패한 이유\n",
    "glassdoor 같은 경우는 워낙 스크래핑 하기 까다로운 사이트이기도 하고,\n",
    "\n",
    "api 스크래핑을 할 수 있음에도 selenium으로 스크래핑을 하고자 했던 점이 잘못된 선택이었다\n",
    "\n",
    "(--> 코드가 변하지 않았음에도 불구하고\n",
    "재실행시킬때마다 다른 결과가 프린트됨)\n",
    "\n",
    "## 느낀 점\n",
    "api로 스크래핑할 수 있으면 api 스크래핑을 하자\n",
    "\n",
    "try와 except를 사용하는데 좀더 익숙해져야 될 것 같다\n"
   ]
  }
 ],
 "metadata": {
  "kernelspec": {
   "display_name": "Python 3",
   "language": "python",
   "name": "python3"
  },
  "language_info": {
   "codemirror_mode": {
    "name": "ipython",
    "version": 3
   },
   "file_extension": ".py",
   "mimetype": "text/x-python",
   "name": "python",
   "nbconvert_exporter": "python",
   "pygments_lexer": "ipython3",
   "version": "3.6.5"
  }
 },
 "nbformat": 4,
 "nbformat_minor": 2
}
